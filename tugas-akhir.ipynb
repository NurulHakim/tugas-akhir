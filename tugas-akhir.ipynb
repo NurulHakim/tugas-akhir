{
 "cells": [
  {
   "cell_type": "code",
   "execution_count": 1,
   "metadata": {},
   "outputs": [],
   "source": [
    "from __future__ import division\n",
    "from sys import exit\n",
    "from math import sqrt\n",
    "from scipy.optimize import fmin_l_bfgs_b\n",
    "import os\n",
    "from numpy import array\n",
    "import numpy as np\n",
    "import pandas as pd\n",
    "import matplotlib.pyplot as plt"
   ]
  },
  {
   "cell_type": "code",
   "execution_count": 2,
   "metadata": {},
   "outputs": [],
   "source": [
    "# load dataset\n",
    "df = pd.read_csv('dataset/dataset.csv')\n",
    "# df.head()"
   ]
  },
  {
   "cell_type": "code",
   "execution_count": 3,
   "metadata": {},
   "outputs": [
    {
     "data": {
      "text/html": [
       "<div>\n",
       "<style scoped>\n",
       "    .dataframe tbody tr th:only-of-type {\n",
       "        vertical-align: middle;\n",
       "    }\n",
       "\n",
       "    .dataframe tbody tr th {\n",
       "        vertical-align: top;\n",
       "    }\n",
       "\n",
       "    .dataframe thead th {\n",
       "        text-align: right;\n",
       "    }\n",
       "</style>\n",
       "<table border=\"1\" class=\"dataframe\">\n",
       "  <thead>\n",
       "    <tr style=\"text-align: right;\">\n",
       "      <th></th>\n",
       "      <th>time</th>\n",
       "      <th>KORIDOR 1</th>\n",
       "      <th>KORIDOR 2</th>\n",
       "      <th>KORIDOR 3</th>\n",
       "      <th>KORIDOR 4</th>\n",
       "      <th>KORIDOR 5</th>\n",
       "      <th>KORIDOR 6</th>\n",
       "      <th>KORIDOR 7</th>\n",
       "      <th>KORIDOR 8</th>\n",
       "      <th>KORIDOR 9</th>\n",
       "      <th>KORIDOR 10</th>\n",
       "      <th>KORIDOR 11</th>\n",
       "      <th>KORIDOR 12</th>\n",
       "    </tr>\n",
       "  </thead>\n",
       "  <tbody>\n",
       "    <tr>\n",
       "      <td>0</td>\n",
       "      <td>17-Jan</td>\n",
       "      <td>2036785</td>\n",
       "      <td>607830</td>\n",
       "      <td>851314</td>\n",
       "      <td>510794</td>\n",
       "      <td>831301</td>\n",
       "      <td>847222</td>\n",
       "      <td>782386</td>\n",
       "      <td>778860</td>\n",
       "      <td>1209820</td>\n",
       "      <td>577798</td>\n",
       "      <td>235949</td>\n",
       "      <td>163190</td>\n",
       "    </tr>\n",
       "    <tr>\n",
       "      <td>1</td>\n",
       "      <td>17-Feb</td>\n",
       "      <td>1807291</td>\n",
       "      <td>532369</td>\n",
       "      <td>765433</td>\n",
       "      <td>462510</td>\n",
       "      <td>706965</td>\n",
       "      <td>769846</td>\n",
       "      <td>669715</td>\n",
       "      <td>713028</td>\n",
       "      <td>1116693</td>\n",
       "      <td>520761</td>\n",
       "      <td>215517</td>\n",
       "      <td>148744</td>\n",
       "    </tr>\n",
       "    <tr>\n",
       "      <td>2</td>\n",
       "      <td>17-Mar</td>\n",
       "      <td>2080351</td>\n",
       "      <td>628796</td>\n",
       "      <td>896030</td>\n",
       "      <td>592404</td>\n",
       "      <td>831005</td>\n",
       "      <td>932833</td>\n",
       "      <td>765291</td>\n",
       "      <td>810981</td>\n",
       "      <td>1226031</td>\n",
       "      <td>613180</td>\n",
       "      <td>249833</td>\n",
       "      <td>178268</td>\n",
       "    </tr>\n",
       "    <tr>\n",
       "      <td>3</td>\n",
       "      <td>17-Apr</td>\n",
       "      <td>1921310</td>\n",
       "      <td>594534</td>\n",
       "      <td>846755</td>\n",
       "      <td>526514</td>\n",
       "      <td>756120</td>\n",
       "      <td>837117</td>\n",
       "      <td>699967</td>\n",
       "      <td>731000</td>\n",
       "      <td>1095176</td>\n",
       "      <td>555744</td>\n",
       "      <td>233072</td>\n",
       "      <td>167430</td>\n",
       "    </tr>\n",
       "    <tr>\n",
       "      <td>4</td>\n",
       "      <td>17-May</td>\n",
       "      <td>2008194</td>\n",
       "      <td>610336</td>\n",
       "      <td>880025</td>\n",
       "      <td>562360</td>\n",
       "      <td>773419</td>\n",
       "      <td>892283</td>\n",
       "      <td>736200</td>\n",
       "      <td>761373</td>\n",
       "      <td>1166608</td>\n",
       "      <td>589174</td>\n",
       "      <td>239869</td>\n",
       "      <td>176003</td>\n",
       "    </tr>\n",
       "  </tbody>\n",
       "</table>\n",
       "</div>"
      ],
      "text/plain": [
       "     time   KORIDOR 1    KORIDOR 2    KORIDOR 3    KORIDOR 4    KORIDOR 5   \\\n",
       "0  17-Jan      2036785       607830       851314       510794       831301   \n",
       "1  17-Feb      1807291       532369       765433       462510       706965   \n",
       "2  17-Mar      2080351       628796       896030       592404       831005   \n",
       "3  17-Apr      1921310       594534       846755       526514       756120   \n",
       "4  17-May      2008194       610336       880025       562360       773419   \n",
       "\n",
       "    KORIDOR 6    KORIDOR 7    KORIDOR 8    KORIDOR 9    KORIDOR 10   \\\n",
       "0       847222       782386       778860      1209820        577798   \n",
       "1       769846       669715       713028      1116693        520761   \n",
       "2       932833       765291       810981      1226031        613180   \n",
       "3       837117       699967       731000      1095176        555744   \n",
       "4       892283       736200       761373      1166608        589174   \n",
       "\n",
       "    KORIDOR 11    KORIDOR 12   \n",
       "0        235949        163190  \n",
       "1        215517        148744  \n",
       "2        249833        178268  \n",
       "3        233072        167430  \n",
       "4        239869        176003  "
      ]
     },
     "execution_count": 3,
     "metadata": {},
     "output_type": "execute_result"
    }
   ],
   "source": [
    "df = pd.DataFrame(df)\n",
    "df.head()"
   ]
  },
  {
   "cell_type": "code",
   "execution_count": 4,
   "metadata": {},
   "outputs": [
    {
     "data": {
      "text/html": [
       "<div>\n",
       "<style scoped>\n",
       "    .dataframe tbody tr th:only-of-type {\n",
       "        vertical-align: middle;\n",
       "    }\n",
       "\n",
       "    .dataframe tbody tr th {\n",
       "        vertical-align: top;\n",
       "    }\n",
       "\n",
       "    .dataframe thead th {\n",
       "        text-align: right;\n",
       "    }\n",
       "</style>\n",
       "<table border=\"1\" class=\"dataframe\">\n",
       "  <thead>\n",
       "    <tr style=\"text-align: right;\">\n",
       "      <th></th>\n",
       "      <th>time</th>\n",
       "      <th>KORIDOR 1</th>\n",
       "      <th>KORIDOR 2</th>\n",
       "      <th>KORIDOR 3</th>\n",
       "      <th>KORIDOR 4</th>\n",
       "      <th>KORIDOR 5</th>\n",
       "      <th>KORIDOR 6</th>\n",
       "      <th>KORIDOR 7</th>\n",
       "      <th>KORIDOR 8</th>\n",
       "      <th>KORIDOR 9</th>\n",
       "      <th>KORIDOR 10</th>\n",
       "      <th>KORIDOR 11</th>\n",
       "      <th>KORIDOR 12</th>\n",
       "    </tr>\n",
       "  </thead>\n",
       "  <tbody>\n",
       "    <tr>\n",
       "      <td>0</td>\n",
       "      <td>17-Jan</td>\n",
       "      <td>2036785</td>\n",
       "      <td>607830</td>\n",
       "      <td>851314</td>\n",
       "      <td>510794</td>\n",
       "      <td>831301</td>\n",
       "      <td>847222</td>\n",
       "      <td>782386</td>\n",
       "      <td>778860</td>\n",
       "      <td>1209820</td>\n",
       "      <td>577798</td>\n",
       "      <td>235949</td>\n",
       "      <td>163190</td>\n",
       "    </tr>\n",
       "    <tr>\n",
       "      <td>1</td>\n",
       "      <td>17-Feb</td>\n",
       "      <td>1807291</td>\n",
       "      <td>532369</td>\n",
       "      <td>765433</td>\n",
       "      <td>462510</td>\n",
       "      <td>706965</td>\n",
       "      <td>769846</td>\n",
       "      <td>669715</td>\n",
       "      <td>713028</td>\n",
       "      <td>1116693</td>\n",
       "      <td>520761</td>\n",
       "      <td>215517</td>\n",
       "      <td>148744</td>\n",
       "    </tr>\n",
       "    <tr>\n",
       "      <td>2</td>\n",
       "      <td>17-Mar</td>\n",
       "      <td>2080351</td>\n",
       "      <td>628796</td>\n",
       "      <td>896030</td>\n",
       "      <td>592404</td>\n",
       "      <td>831005</td>\n",
       "      <td>932833</td>\n",
       "      <td>765291</td>\n",
       "      <td>810981</td>\n",
       "      <td>1226031</td>\n",
       "      <td>613180</td>\n",
       "      <td>249833</td>\n",
       "      <td>178268</td>\n",
       "    </tr>\n",
       "    <tr>\n",
       "      <td>3</td>\n",
       "      <td>17-Apr</td>\n",
       "      <td>1921310</td>\n",
       "      <td>594534</td>\n",
       "      <td>846755</td>\n",
       "      <td>526514</td>\n",
       "      <td>756120</td>\n",
       "      <td>837117</td>\n",
       "      <td>699967</td>\n",
       "      <td>731000</td>\n",
       "      <td>1095176</td>\n",
       "      <td>555744</td>\n",
       "      <td>233072</td>\n",
       "      <td>167430</td>\n",
       "    </tr>\n",
       "    <tr>\n",
       "      <td>4</td>\n",
       "      <td>17-May</td>\n",
       "      <td>2008194</td>\n",
       "      <td>610336</td>\n",
       "      <td>880025</td>\n",
       "      <td>562360</td>\n",
       "      <td>773419</td>\n",
       "      <td>892283</td>\n",
       "      <td>736200</td>\n",
       "      <td>761373</td>\n",
       "      <td>1166608</td>\n",
       "      <td>589174</td>\n",
       "      <td>239869</td>\n",
       "      <td>176003</td>\n",
       "    </tr>\n",
       "  </tbody>\n",
       "</table>\n",
       "</div>"
      ],
      "text/plain": [
       "     time   KORIDOR 1    KORIDOR 2    KORIDOR 3    KORIDOR 4    KORIDOR 5   \\\n",
       "0  17-Jan      2036785       607830       851314       510794       831301   \n",
       "1  17-Feb      1807291       532369       765433       462510       706965   \n",
       "2  17-Mar      2080351       628796       896030       592404       831005   \n",
       "3  17-Apr      1921310       594534       846755       526514       756120   \n",
       "4  17-May      2008194       610336       880025       562360       773419   \n",
       "\n",
       "    KORIDOR 6    KORIDOR 7    KORIDOR 8    KORIDOR 9    KORIDOR 10   \\\n",
       "0       847222       782386       778860      1209820        577798   \n",
       "1       769846       669715       713028      1116693        520761   \n",
       "2       932833       765291       810981      1226031        613180   \n",
       "3       837117       699967       731000      1095176        555744   \n",
       "4       892283       736200       761373      1166608        589174   \n",
       "\n",
       "    KORIDOR 11    KORIDOR 12   \n",
       "0        235949        163190  \n",
       "1        215517        148744  \n",
       "2        249833        178268  \n",
       "3        233072        167430  \n",
       "4        239869        176003  "
      ]
     },
     "execution_count": 4,
     "metadata": {},
     "output_type": "execute_result"
    }
   ],
   "source": [
    "df = df.interpolate(method ='linear', limit_direction ='forward')\n",
    "df.head()"
   ]
  },
  {
   "cell_type": "code",
   "execution_count": 5,
   "metadata": {},
   "outputs": [
    {
     "data": {
      "text/html": [
       "<div>\n",
       "<style scoped>\n",
       "    .dataframe tbody tr th:only-of-type {\n",
       "        vertical-align: middle;\n",
       "    }\n",
       "\n",
       "    .dataframe tbody tr th {\n",
       "        vertical-align: top;\n",
       "    }\n",
       "\n",
       "    .dataframe thead th {\n",
       "        text-align: right;\n",
       "    }\n",
       "</style>\n",
       "<table border=\"1\" class=\"dataframe\">\n",
       "  <thead>\n",
       "    <tr style=\"text-align: right;\">\n",
       "      <th></th>\n",
       "      <th>time</th>\n",
       "      <th>KORIDOR 1</th>\n",
       "    </tr>\n",
       "  </thead>\n",
       "  <tbody>\n",
       "    <tr>\n",
       "      <td>0</td>\n",
       "      <td>17-Jan</td>\n",
       "      <td>2036785</td>\n",
       "    </tr>\n",
       "    <tr>\n",
       "      <td>1</td>\n",
       "      <td>17-Feb</td>\n",
       "      <td>1807291</td>\n",
       "    </tr>\n",
       "    <tr>\n",
       "      <td>2</td>\n",
       "      <td>17-Mar</td>\n",
       "      <td>2080351</td>\n",
       "    </tr>\n",
       "    <tr>\n",
       "      <td>3</td>\n",
       "      <td>17-Apr</td>\n",
       "      <td>1921310</td>\n",
       "    </tr>\n",
       "    <tr>\n",
       "      <td>4</td>\n",
       "      <td>17-May</td>\n",
       "      <td>2008194</td>\n",
       "    </tr>\n",
       "  </tbody>\n",
       "</table>\n",
       "</div>"
      ],
      "text/plain": [
       "     time   KORIDOR 1 \n",
       "0  17-Jan      2036785\n",
       "1  17-Feb      1807291\n",
       "2  17-Mar      2080351\n",
       "3  17-Apr      1921310\n",
       "4  17-May      2008194"
      ]
     },
     "execution_count": 5,
     "metadata": {},
     "output_type": "execute_result"
    }
   ],
   "source": [
    "# parsing dataframe\n",
    "data = df[[\"time\", \" KORIDOR 1 \"]]\n",
    "data.head()"
   ]
  },
  {
   "cell_type": "code",
   "execution_count": 6,
   "metadata": {},
   "outputs": [],
   "source": [
    "# konversi dataframe ke list\n",
    "dataset = data[\" KORIDOR 1 \"]\n",
    "dataset = dataset[:36].values.tolist()"
   ]
  },
  {
   "cell_type": "code",
   "execution_count": 7,
   "metadata": {},
   "outputs": [
    {
     "data": {
      "image/png": "[encoded data removed]",
      "text/plain": [
       "<Figure size 576x288 with 1 Axes>"
      ]
     },
     "metadata": {
      "needs_background": "light"
     },
     "output_type": "display_data"
    }
   ],
   "source": [
    "# ploting data\n",
    "koridor = dataset\n",
    "\n",
    "plt.figure(figsize=(8,4))\n",
    "plt.plot(koridor, label='Ploting data actual Koridor 11')\n",
    "plt.legend(loc='best')\n",
    "plt.show()"
   ]
  },
  {
   "cell_type": "code",
   "execution_count": 8,
   "metadata": {},
   "outputs": [],
   "source": [
    "# inisiasi nilai\n",
    "m = 12        # periode musiman\n",
    "fc = 12       # jumlah hasil yang diprediksi\n",
    "alpha = None  # konstanta pemulusan\n",
    "beta = None   # konstanta pemulusan\n",
    "gamma = None  # konstanta pemulusan"
   ]
  },
  {
   "cell_type": "markdown",
   "metadata": {},
   "source": [
    "## Training"
   ]
  },
  {
   "cell_type": "code",
   "execution_count": 9,
   "metadata": {},
   "outputs": [],
   "source": [
    "# parsing untuk data training\n",
    "Y = dataset[:24]"
   ]
  },
  {
   "cell_type": "code",
   "execution_count": 10,
   "metadata": {},
   "outputs": [],
   "source": [
    "# fungsi untuk evaluasi model dalam proses training\n",
    "\n",
    "def RMSE(params, *args):\n",
    "\n",
    "    Y = args[0]\n",
    "    type = args[1]\n",
    "    rmse = 0\n",
    "    alpha, beta, gamma = params\n",
    "    m = args[2]\n",
    "    a = [sum(Y[0:m]) / float(m)]                         \n",
    "    b = [(sum(Y[m:2 * m]) - sum(Y[0:m])) / m ** 2]\n",
    "\n",
    "    if type == 'multiplicative':\n",
    "            \n",
    "        s = [Y[i] / a[0] for i in range(m)]              \n",
    "        y = [(a[0] + (b[0]  * m)) * s[0]]\n",
    "\n",
    "        for i in range(len(Y)):\n",
    "            a.append(alpha * (Y[i] / s[i]) + (1 - alpha) * (a[i] + b[i]))      \n",
    "            b.append(beta * (a[i + 1] - a[i]) + (1 - beta) * b[i])            \n",
    "            s.append(gamma * (Y[i] / a[i + 1]) + (1 - gamma) * s[i])     \n",
    "            y.append((a[i + 1] + (b[i + 1] * m)) * s[i + 1])                   \n",
    "\n",
    "    rmse = sqrt(sum([(m - n) ** 2 for m, n in zip(Y, y[:-1])]) / len(Y))\n",
    "    \n",
    "    return rmse\n"
   ]
  },
  {
   "cell_type": "code",
   "execution_count": 11,
   "metadata": {},
   "outputs": [],
   "source": [
    "if (alpha == None or beta == None or gamma == None):\n",
    "\n",
    "    initial_values = array([0.0, 0.0, 0.0])\n",
    "    boundaries = [(0, 1), (0, 1), (0, 1)]\n",
    "    type = 'multiplicative'\n",
    "\n",
    "    #optimize konstanta pemulusan menggunakan scipy optimizer\n",
    "    parameters = fmin_l_bfgs_b(RMSE, x0 = initial_values, args = (Y, type, m), bounds = boundaries, approx_grad = True)\n",
    "    alpha, beta, gamma = parameters[0]\n",
    "\n",
    "a = [sum(Y[0:m]) / float(m)]\n",
    "b = [(sum(Y[m:2 * m]) - sum(Y[0:m])) / m ** 2]\n",
    "s = [Y[i] / a[0] for i in range(m)]\n",
    "y = [(a[0] + (b[0] * m)) * s[0]]\n",
    "rmse = 0"
   ]
  },
  {
   "cell_type": "code",
   "execution_count": 12,
   "metadata": {},
   "outputs": [
    {
     "name": "stdout",
     "output_type": "stream",
     "text": [
      "inisiasi pemulusan level  [2021421.5]\n",
      "=================\n",
      "inisiasi pemulusan trend  [10779.715277777777]\n",
      "=================\n",
      "inisiasi pemulusan seasonal  [1.0076003446089794, 0.8940693467443579, 1.0291525048091157, 0.9504747030740496, 0.9934563375327709, 0.8018911444248515, 0.9774755042429301, 1.0703096805886352, 0.978953671958075, 1.1244690926657306, 1.1056936912959519, 1.066453978054552]\n",
      "=================\n",
      "alpha  0.02697691019898073\n",
      "=================\n",
      "beta  0.6638927577143453\n",
      "=================\n",
      "gamma  0.0\n",
      "=================\n",
      "y  [2167124.737944107]\n"
     ]
    }
   ],
   "source": [
    "print(\"inisiasi pemulusan level \", a)\n",
    "print(\"=================\")\n",
    "print(\"inisiasi pemulusan trend \", b)\n",
    "print(\"=================\")\n",
    "print(\"inisiasi pemulusan seasonal \", s)\n",
    "print(\"=================\")\n",
    "print(\"alpha \", alpha)\n",
    "print(\"=================\")\n",
    "print(\"beta \", beta)\n",
    "print(\"=================\")\n",
    "print(\"gamma \", gamma)\n",
    "print(\"=================\")\n",
    "print(\"y \", y)"
   ]
  },
  {
   "cell_type": "code",
   "execution_count": 13,
   "metadata": {},
   "outputs": [
    {
     "data": {
      "text/plain": [
       "127087.34514184216"
      ]
     },
     "execution_count": 13,
     "metadata": {},
     "output_type": "execute_result"
    }
   ],
   "source": [
    "for i in range(len(Y)):\n",
    "    a.append(alpha * (Y[i] / s[i]) + (1 - alpha) * (a[i] + b[i]))      \n",
    "    b.append(beta * (a[i + 1] - a[i]) + (1 - beta) * b[i])            \n",
    "    s.append(gamma * (Y[i] / a[i + 1]) + (1 - gamma) * s[i])      \n",
    "    y.append((a[i + 1] + (b[i + 1] * m)) * s[i + 1])                   \n",
    "\n",
    "rmse = sqrt(sum([(m - n) ** 2 for m, n in zip(Y[:-fc], y[:-fc - 1])]) / len(Y[:-fc]))\n",
    "rmse"
   ]
  },
  {
   "cell_type": "code",
   "execution_count": 14,
   "metadata": {},
   "outputs": [
    {
     "name": "stdout",
     "output_type": "stream",
     "text": [
      "alpha  0.02697691019898073\n",
      "beta  0.6638927577143453\n",
      "gamma  0.0\n",
      "rmse  127087.34514184216\n"
     ]
    }
   ],
   "source": [
    "print(\"alpha \", alpha)\n",
    "print(\"beta \", beta)\n",
    "print(\"gamma \", gamma)\n",
    "print(\"rmse \", rmse)"
   ]
  },
  {
   "cell_type": "code",
   "execution_count": 15,
   "metadata": {},
   "outputs": [
    {
     "data": {
      "text/html": [
       "<div>\n",
       "<style scoped>\n",
       "    .dataframe tbody tr th:only-of-type {\n",
       "        vertical-align: middle;\n",
       "    }\n",
       "\n",
       "    .dataframe tbody tr th {\n",
       "        vertical-align: top;\n",
       "    }\n",
       "\n",
       "    .dataframe thead th {\n",
       "        text-align: right;\n",
       "    }\n",
       "</style>\n",
       "<table border=\"1\" class=\"dataframe\">\n",
       "  <thead>\n",
       "    <tr style=\"text-align: right;\">\n",
       "      <th></th>\n",
       "      <th>$y_t$</th>\n",
       "      <th>$l_t$</th>\n",
       "      <th>$b_t$</th>\n",
       "      <th>$s_t$</th>\n",
       "      <th>$\\hat{y}_t$</th>\n",
       "    </tr>\n",
       "  </thead>\n",
       "  <tbody>\n",
       "    <tr>\n",
       "      <td>0</td>\n",
       "      <td>2036785.0</td>\n",
       "      <td>2.031910e+06</td>\n",
       "      <td>10586.652999</td>\n",
       "      <td>1.007600</td>\n",
       "      <td>1.930251e+06</td>\n",
       "    </tr>\n",
       "    <tr>\n",
       "      <td>1</td>\n",
       "      <td>1807291.0</td>\n",
       "      <td>2.041929e+06</td>\n",
       "      <td>10209.194368</td>\n",
       "      <td>0.894069</td>\n",
       "      <td>2.227538e+06</td>\n",
       "    </tr>\n",
       "    <tr>\n",
       "      <td>2</td>\n",
       "      <td>2080351.0</td>\n",
       "      <td>2.051309e+06</td>\n",
       "      <td>9659.074027</td>\n",
       "      <td>1.029153</td>\n",
       "      <td>2.059886e+06</td>\n",
       "    </tr>\n",
       "    <tr>\n",
       "      <td>3</td>\n",
       "      <td>1921310.0</td>\n",
       "      <td>2.059901e+06</td>\n",
       "      <td>8950.802388</td>\n",
       "      <td>0.950475</td>\n",
       "      <td>2.153129e+06</td>\n",
       "    </tr>\n",
       "    <tr>\n",
       "      <td>4</td>\n",
       "      <td>2008194.0</td>\n",
       "      <td>2.067573e+06</td>\n",
       "      <td>8101.330870</td>\n",
       "      <td>0.993456</td>\n",
       "      <td>1.735925e+06</td>\n",
       "    </tr>\n",
       "    <tr>\n",
       "      <td>5</td>\n",
       "      <td>1620960.0</td>\n",
       "      <td>2.074210e+06</td>\n",
       "      <td>7129.682452</td>\n",
       "      <td>0.801891</td>\n",
       "      <td>2.111119e+06</td>\n",
       "    </tr>\n",
       "    <tr>\n",
       "      <td>6</td>\n",
       "      <td>1975890.0</td>\n",
       "      <td>2.079724e+06</td>\n",
       "      <td>6056.555097</td>\n",
       "      <td>0.977476</td>\n",
       "      <td>2.303737e+06</td>\n",
       "    </tr>\n",
       "    <tr>\n",
       "      <td>7</td>\n",
       "      <td>2163547.0</td>\n",
       "      <td>2.084044e+06</td>\n",
       "      <td>4903.905860</td>\n",
       "      <td>1.070310</td>\n",
       "      <td>2.097791e+06</td>\n",
       "    </tr>\n",
       "    <tr>\n",
       "      <td>8</td>\n",
       "      <td>1978878.0</td>\n",
       "      <td>2.087126e+06</td>\n",
       "      <td>3694.523687</td>\n",
       "      <td>0.978954</td>\n",
       "      <td>2.396761e+06</td>\n",
       "    </tr>\n",
       "    <tr>\n",
       "      <td>9</td>\n",
       "      <td>2273026.0</td>\n",
       "      <td>2.088949e+06</td>\n",
       "      <td>2451.598818</td>\n",
       "      <td>1.124469</td>\n",
       "      <td>2.342266e+06</td>\n",
       "    </tr>\n",
       "    <tr>\n",
       "      <td>10</td>\n",
       "      <td>2235073.0</td>\n",
       "      <td>2.089512e+06</td>\n",
       "      <td>1198.296639</td>\n",
       "      <td>1.105694</td>\n",
       "      <td>2.243704e+06</td>\n",
       "    </tr>\n",
       "    <tr>\n",
       "      <td>11</td>\n",
       "      <td>2155753.0</td>\n",
       "      <td>2.088841e+06</td>\n",
       "      <td>-42.656544</td>\n",
       "      <td>1.066454</td>\n",
       "      <td>2.104202e+06</td>\n",
       "    </tr>\n",
       "    <tr>\n",
       "      <td>12</td>\n",
       "      <td>2110653.0</td>\n",
       "      <td>2.088959e+06</td>\n",
       "      <td>63.611505</td>\n",
       "      <td>1.007600</td>\n",
       "      <td>1.868357e+06</td>\n",
       "    </tr>\n",
       "    <tr>\n",
       "      <td>13</td>\n",
       "      <td>1888389.0</td>\n",
       "      <td>2.089646e+06</td>\n",
       "      <td>477.428335</td>\n",
       "      <td>0.894069</td>\n",
       "      <td>2.156460e+06</td>\n",
       "    </tr>\n",
       "    <tr>\n",
       "      <td>14</td>\n",
       "      <td>2110565.0</td>\n",
       "      <td>2.089062e+06</td>\n",
       "      <td>-227.206348</td>\n",
       "      <td>1.029153</td>\n",
       "      <td>1.983009e+06</td>\n",
       "    </tr>\n",
       "    <tr>\n",
       "      <td>15</td>\n",
       "      <td>2153237.0</td>\n",
       "      <td>2.093599e+06</td>\n",
       "      <td>2935.635114</td>\n",
       "      <td>0.950475</td>\n",
       "      <td>2.114896e+06</td>\n",
       "    </tr>\n",
       "    <tr>\n",
       "      <td>16</td>\n",
       "      <td>1947219.0</td>\n",
       "      <td>2.092852e+06</td>\n",
       "      <td>491.139008</td>\n",
       "      <td>0.993456</td>\n",
       "      <td>1.682966e+06</td>\n",
       "    </tr>\n",
       "    <tr>\n",
       "      <td>17</td>\n",
       "      <td>1582151.0</td>\n",
       "      <td>2.090098e+06</td>\n",
       "      <td>-1663.743307</td>\n",
       "      <td>0.801891</td>\n",
       "      <td>2.023504e+06</td>\n",
       "    </tr>\n",
       "    <tr>\n",
       "      <td>18</td>\n",
       "      <td>2257841.0</td>\n",
       "      <td>2.094408e+06</td>\n",
       "      <td>2302.121839</td>\n",
       "      <td>0.977476</td>\n",
       "      <td>2.271232e+06</td>\n",
       "    </tr>\n",
       "    <tr>\n",
       "      <td>19</td>\n",
       "      <td>2410214.0</td>\n",
       "      <td>2.100896e+06</td>\n",
       "      <td>5081.272403</td>\n",
       "      <td>1.070310</td>\n",
       "      <td>2.116372e+06</td>\n",
       "    </tr>\n",
       "    <tr>\n",
       "      <td>20</td>\n",
       "      <td>2303955.0</td>\n",
       "      <td>2.112654e+06</td>\n",
       "      <td>9514.124634</td>\n",
       "      <td>0.978954</td>\n",
       "      <td>2.503994e+06</td>\n",
       "    </tr>\n",
       "    <tr>\n",
       "      <td>21</td>\n",
       "      <td>2417012.0</td>\n",
       "      <td>2.122905e+06</td>\n",
       "      <td>10003.083752</td>\n",
       "      <td>1.124469</td>\n",
       "      <td>2.480007e+06</td>\n",
       "    </tr>\n",
       "    <tr>\n",
       "      <td>22</td>\n",
       "      <td>2417012.0</td>\n",
       "      <td>2.134339e+06</td>\n",
       "      <td>10953.395268</td>\n",
       "      <td>1.105694</td>\n",
       "      <td>2.416350e+06</td>\n",
       "    </tr>\n",
       "    <tr>\n",
       "      <td>23</td>\n",
       "      <td>2211089.0</td>\n",
       "      <td>2.143351e+06</td>\n",
       "      <td>9664.190531</td>\n",
       "      <td>1.066454</td>\n",
       "      <td>2.276493e+06</td>\n",
       "    </tr>\n",
       "  </tbody>\n",
       "</table>\n",
       "</div>"
      ],
      "text/plain": [
       "        $y_t$         $l_t$         $b_t$     $s_t$   $\\hat{y}_t$\n",
       "0   2036785.0  2.031910e+06  10586.652999  1.007600  1.930251e+06\n",
       "1   1807291.0  2.041929e+06  10209.194368  0.894069  2.227538e+06\n",
       "2   2080351.0  2.051309e+06   9659.074027  1.029153  2.059886e+06\n",
       "3   1921310.0  2.059901e+06   8950.802388  0.950475  2.153129e+06\n",
       "4   2008194.0  2.067573e+06   8101.330870  0.993456  1.735925e+06\n",
       "5   1620960.0  2.074210e+06   7129.682452  0.801891  2.111119e+06\n",
       "6   1975890.0  2.079724e+06   6056.555097  0.977476  2.303737e+06\n",
       "7   2163547.0  2.084044e+06   4903.905860  1.070310  2.097791e+06\n",
       "8   1978878.0  2.087126e+06   3694.523687  0.978954  2.396761e+06\n",
       "9   2273026.0  2.088949e+06   2451.598818  1.124469  2.342266e+06\n",
       "10  2235073.0  2.089512e+06   1198.296639  1.105694  2.243704e+06\n",
       "11  2155753.0  2.088841e+06    -42.656544  1.066454  2.104202e+06\n",
       "12  2110653.0  2.088959e+06     63.611505  1.007600  1.868357e+06\n",
       "13  1888389.0  2.089646e+06    477.428335  0.894069  2.156460e+06\n",
       "14  2110565.0  2.089062e+06   -227.206348  1.029153  1.983009e+06\n",
       "15  2153237.0  2.093599e+06   2935.635114  0.950475  2.114896e+06\n",
       "16  1947219.0  2.092852e+06    491.139008  0.993456  1.682966e+06\n",
       "17  1582151.0  2.090098e+06  -1663.743307  0.801891  2.023504e+06\n",
       "18  2257841.0  2.094408e+06   2302.121839  0.977476  2.271232e+06\n",
       "19  2410214.0  2.100896e+06   5081.272403  1.070310  2.116372e+06\n",
       "20  2303955.0  2.112654e+06   9514.124634  0.978954  2.503994e+06\n",
       "21  2417012.0  2.122905e+06  10003.083752  1.124469  2.480007e+06\n",
       "22  2417012.0  2.134339e+06  10953.395268  1.105694  2.416350e+06\n",
       "23  2211089.0  2.143351e+06   9664.190531  1.066454  2.276493e+06"
      ]
     },
     "execution_count": 15,
     "metadata": {},
     "output_type": "execute_result"
    }
   ],
   "source": [
    "# hasil training\n",
    "\n",
    "actual = pd.DataFrame(Y[:24])\n",
    "level = pd.DataFrame(a[1:])\n",
    "trend = pd.DataFrame(b[1:])\n",
    "seasonal = pd.DataFrame(s[12:])\n",
    "predict = pd.DataFrame(y[1:])\n",
    "\n",
    "df = pd.DataFrame(np.c_[actual, level, trend, seasonal, predict], columns=[r'$y_t$',r'$l_t$',r'$b_t$',r'$s_t$',r'$\\hat{y}_t$'],index=actual.index)\n",
    "df"
   ]
  },
  {
   "cell_type": "markdown",
   "metadata": {},
   "source": [
    "## Testing"
   ]
  },
  {
   "cell_type": "code",
   "execution_count": 16,
   "metadata": {},
   "outputs": [
    {
     "data": {
      "text/plain": [
       "12"
      ]
     },
     "execution_count": 16,
     "metadata": {},
     "output_type": "execute_result"
    }
   ],
   "source": [
    "Y = dataset[24:]\n",
    "len(Y)"
   ]
  },
  {
   "cell_type": "code",
   "execution_count": 17,
   "metadata": {},
   "outputs": [],
   "source": [
    "for i in range(len(Y) + fc):\n",
    "    \n",
    "    if i == len(Y):\n",
    "        Y.append((a[-1] + (b[-1] * m)) * s[-m])\n",
    "        \n",
    "    a.append(alpha * (Y[i] / s[i+35]) + (1 - alpha) * (a[i+24] + b[i+24]))      \n",
    "    b.append(beta * (a[i + 25] - a[i+24]) + (1 - beta) * b[i+24])            \n",
    "    s.append(gamma * (Y[i] / a[i + 25]) + (1 - gamma) * s[i+35])      \n",
    "    y.append((a[i + 25] + (b[i + 25] * m)) * s[i + 36])  "
   ]
  },
  {
   "cell_type": "code",
   "execution_count": 18,
   "metadata": {},
   "outputs": [
    {
     "name": "stdout",
     "output_type": "stream",
     "text": [
      "alpha  0.02697691019898073\n",
      "beta  0.6638927577143453\n",
      "gamma  0.0\n",
      "rmse  127087.34514184216\n"
     ]
    }
   ],
   "source": [
    "print(\"alpha \", alpha)\n",
    "print(\"beta \", beta)\n",
    "print(\"gamma \", gamma)\n",
    "print(\"rmse \", rmse)"
   ]
  },
  {
   "cell_type": "code",
   "execution_count": 19,
   "metadata": {},
   "outputs": [
    {
     "data": {
      "text/html": [
       "<div>\n",
       "<style scoped>\n",
       "    .dataframe tbody tr th:only-of-type {\n",
       "        vertical-align: middle;\n",
       "    }\n",
       "\n",
       "    .dataframe tbody tr th {\n",
       "        vertical-align: top;\n",
       "    }\n",
       "\n",
       "    .dataframe thead th {\n",
       "        text-align: right;\n",
       "    }\n",
       "</style>\n",
       "<table border=\"1\" class=\"dataframe\">\n",
       "  <thead>\n",
       "    <tr style=\"text-align: right;\">\n",
       "      <th></th>\n",
       "      <th>$y_t$</th>\n",
       "      <th>$l_t$</th>\n",
       "      <th>$b_t$</th>\n",
       "      <th>$s_t$</th>\n",
       "      <th>$\\hat{y}_t$</th>\n",
       "    </tr>\n",
       "  </thead>\n",
       "  <tbody>\n",
       "    <tr>\n",
       "      <td>0</td>\n",
       "      <td>2223257.0</td>\n",
       "      <td>2.151173e+06</td>\n",
       "      <td>8441.027582</td>\n",
       "      <td>1.066454</td>\n",
       "      <td>2.167125e+06</td>\n",
       "    </tr>\n",
       "    <tr>\n",
       "      <td>1</td>\n",
       "      <td>1992685.0</td>\n",
       "      <td>2.151761e+06</td>\n",
       "      <td>3227.513371</td>\n",
       "      <td>1.066454</td>\n",
       "      <td>1.930251e+06</td>\n",
       "    </tr>\n",
       "    <tr>\n",
       "      <td>2</td>\n",
       "      <td>2334201.0</td>\n",
       "      <td>2.155899e+06</td>\n",
       "      <td>3832.178373</td>\n",
       "      <td>1.066454</td>\n",
       "      <td>2.227538e+06</td>\n",
       "    </tr>\n",
       "    <tr>\n",
       "      <td>3</td>\n",
       "      <td>2207527.0</td>\n",
       "      <td>2.157310e+06</td>\n",
       "      <td>2224.564800</td>\n",
       "      <td>1.066454</td>\n",
       "      <td>2.059886e+06</td>\n",
       "    </tr>\n",
       "    <tr>\n",
       "      <td>4</td>\n",
       "      <td>2031443.0</td>\n",
       "      <td>2.152664e+06</td>\n",
       "      <td>-2336.634737</td>\n",
       "      <td>1.066454</td>\n",
       "      <td>2.153129e+06</td>\n",
       "    </tr>\n",
       "    <tr>\n",
       "      <td>5</td>\n",
       "      <td>2042807.0</td>\n",
       "      <td>2.143993e+06</td>\n",
       "      <td>-6542.094278</td>\n",
       "      <td>1.066454</td>\n",
       "      <td>1.735925e+06</td>\n",
       "    </tr>\n",
       "    <tr>\n",
       "      <td>6</td>\n",
       "      <td>2612456.0</td>\n",
       "      <td>2.145873e+06</td>\n",
       "      <td>-950.385805</td>\n",
       "      <td>1.066454</td>\n",
       "      <td>2.111119e+06</td>\n",
       "    </tr>\n",
       "    <tr>\n",
       "      <td>7</td>\n",
       "      <td>2436733.0</td>\n",
       "      <td>2.148699e+06</td>\n",
       "      <td>1556.446440</td>\n",
       "      <td>1.066454</td>\n",
       "      <td>2.303737e+06</td>\n",
       "    </tr>\n",
       "    <tr>\n",
       "      <td>8</td>\n",
       "      <td>2491625.0</td>\n",
       "      <td>2.155276e+06</td>\n",
       "      <td>4889.619726</td>\n",
       "      <td>1.066454</td>\n",
       "      <td>2.097791e+06</td>\n",
       "    </tr>\n",
       "    <tr>\n",
       "      <td>9</td>\n",
       "      <td>2491625.0</td>\n",
       "      <td>2.164919e+06</td>\n",
       "      <td>8045.302306</td>\n",
       "      <td>1.066454</td>\n",
       "      <td>2.396761e+06</td>\n",
       "    </tr>\n",
       "    <tr>\n",
       "      <td>10</td>\n",
       "      <td>2533287.0</td>\n",
       "      <td>2.178426e+06</td>\n",
       "      <td>11671.426515</td>\n",
       "      <td>1.066454</td>\n",
       "      <td>2.342266e+06</td>\n",
       "    </tr>\n",
       "    <tr>\n",
       "      <td>11</td>\n",
       "      <td>2686458.0</td>\n",
       "      <td>2.198972e+06</td>\n",
       "      <td>17563.013936</td>\n",
       "      <td>1.066454</td>\n",
       "      <td>2.243704e+06</td>\n",
       "    </tr>\n",
       "  </tbody>\n",
       "</table>\n",
       "</div>"
      ],
      "text/plain": [
       "        $y_t$         $l_t$         $b_t$     $s_t$   $\\hat{y}_t$\n",
       "0   2223257.0  2.151173e+06   8441.027582  1.066454  2.167125e+06\n",
       "1   1992685.0  2.151761e+06   3227.513371  1.066454  1.930251e+06\n",
       "2   2334201.0  2.155899e+06   3832.178373  1.066454  2.227538e+06\n",
       "3   2207527.0  2.157310e+06   2224.564800  1.066454  2.059886e+06\n",
       "4   2031443.0  2.152664e+06  -2336.634737  1.066454  2.153129e+06\n",
       "5   2042807.0  2.143993e+06  -6542.094278  1.066454  1.735925e+06\n",
       "6   2612456.0  2.145873e+06   -950.385805  1.066454  2.111119e+06\n",
       "7   2436733.0  2.148699e+06   1556.446440  1.066454  2.303737e+06\n",
       "8   2491625.0  2.155276e+06   4889.619726  1.066454  2.097791e+06\n",
       "9   2491625.0  2.164919e+06   8045.302306  1.066454  2.396761e+06\n",
       "10  2533287.0  2.178426e+06  11671.426515  1.066454  2.342266e+06\n",
       "11  2686458.0  2.198972e+06  17563.013936  1.066454  2.243704e+06"
      ]
     },
     "execution_count": 19,
     "metadata": {},
     "output_type": "execute_result"
    }
   ],
   "source": [
    "# hasil testing\n",
    "\n",
    "actual = pd.DataFrame(Y[:12])\n",
    "level = pd.DataFrame(a[25:37])\n",
    "trend = pd.DataFrame(b[25:37])\n",
    "seasonal = pd.DataFrame(s[36:48])\n",
    "predict = pd.DataFrame(y[:12])\n",
    "\n",
    "df = pd.DataFrame(np.c_[actual, level, trend, seasonal, predict], columns=[r'$y_t$',r'$l_t$',r'$b_t$',r'$s_t$',r'$\\hat{y}_t$'],index=actual.index)\n",
    "df"
   ]
  },
  {
   "cell_type": "markdown",
   "metadata": {},
   "source": [
    "## Evaluasi akurasi model"
   ]
  },
  {
   "cell_type": "code",
   "execution_count": 20,
   "metadata": {},
   "outputs": [],
   "source": [
    "y_true = dataset[24:36]\n",
    "y_pred = y[25:37]"
   ]
  },
  {
   "cell_type": "code",
   "execution_count": 21,
   "metadata": {},
   "outputs": [],
   "source": [
    "def MAPE(y_true, y_pred): \n",
    "    y_true, y_pred = np.array(y_true), np.array(y_pred)\n",
    "    return np.mean(np.abs((y_true - y_pred) / y_true)) * 100"
   ]
  },
  {
   "cell_type": "code",
   "execution_count": 22,
   "metadata": {},
   "outputs": [
    {
     "name": "stdout",
     "output_type": "stream",
     "text": [
      "MAPE is  6.995567533560874\n"
     ]
    }
   ],
   "source": [
    "mape = MAPE(y_true, y_pred)\n",
    "print(\"MAPE is \", mape)"
   ]
  },
  {
   "cell_type": "code",
   "execution_count": 23,
   "metadata": {},
   "outputs": [
    {
     "data": {
      "image/png": "[encoded data removed]",
      "text/plain": [
       "<Figure size 576x288 with 1 Axes>"
      ]
     },
     "metadata": {
      "needs_background": "light"
     },
     "output_type": "display_data"
    }
   ],
   "source": [
    "# ploting perbandingan hasil prediction dan actual\n",
    "a = dataset[25:37]\n",
    "b = y[24:36]\n",
    "\n",
    "plt.figure(figsize=(8,4))\n",
    "plt.plot(a, label='actual')\n",
    "plt.plot(b, label='prediction')\n",
    "plt.legend(loc='best')\n",
    "plt.show()"
   ]
  },
  {
   "cell_type": "code",
   "execution_count": 26,
   "metadata": {},
   "outputs": [
    {
     "data": {
      "image/png": "[encoded data removed]",
      "text/plain": [
       "<Figure size 432x216 with 1 Axes>"
      ]
     },
     "metadata": {
      "needs_background": "light"
     },
     "output_type": "display_data"
    }
   ],
   "source": [
    "# ploting perbandingan hasil prediction dan actual\n",
    "b = y[24:36]\n",
    "\n",
    "plt.figure(figsize=(6,3))\n",
    "plt.plot(b)\n",
    "plt.show()"
   ]
  },
  {
   "cell_type": "markdown",
   "metadata": {},
   "source": [
    "## Contoh grafik jenis exponential smoothing"
   ]
  },
  {
   "cell_type": "code",
   "execution_count": 57,
   "metadata": {},
   "outputs": [
    {
     "name": "stdout",
     "output_type": "stream",
     "text": [
      "       Contoh grafik single exponential smoothing\n"
     ]
    },
    {
     "data": {
      "image/png": "[encoded data removed]",
      "text/plain": [
       "<Figure size 432x288 with 1 Axes>"
      ]
     },
     "metadata": {
      "needs_background": "light"
     },
     "output_type": "display_data"
    }
   ],
   "source": [
    "data = [446.2222,  446.2223,  446.2223 ,  446.2222,  446.2223,  446.2221, 446.2223,  446.2224,  446.2222,  446.2222 ,  446.2221,  446.2221]\n",
    "index= pd.date_range(start='1996', end='2008', freq='A')\n",
    "oildata = pd.Series(data, index)\n",
    "\n",
    "ax=oildata.plot()\n",
    "ax.set_xlabel(\"Year\")\n",
    "ax.set_ylabel(\"Total\")\n",
    "print(\"       Contoh grafik single exponential smoothing\")"
   ]
  },
  {
   "cell_type": "code",
   "execution_count": 25,
   "metadata": {},
   "outputs": [
    {
     "name": "stdout",
     "output_type": "stream",
     "text": [
      "Contoh grafik double exponential smoothing\n"
     ]
    },
    {
     "data": {
      "image/png": "[encoded data removed]",
      "text/plain": [
       "<Figure size 432x288 with 1 Axes>"
      ]
     },
     "metadata": {
      "needs_background": "light"
     },
     "output_type": "display_data"
    }
   ],
   "source": [
    "data = [17.5534,  21.86  ,  23.8866,  26.9293,  26.8885,  28.8314, 30.0751,  30.9535,  30.1857,  31.5797,  32.5776,  33.4774, 39.0216,  41.3864,  41.5966]\n",
    "index= pd.date_range(start='1990', end='2005', freq='A')\n",
    "air = pd.Series(data, index)\n",
    "\n",
    "ay=air.plot()\n",
    "ay.set_xlabel(\"Year\")\n",
    "ay.set_ylabel(\"Total\")\n",
    "print(\"Contoh grafik double exponential smoothing\")"
   ]
  },
  {
   "cell_type": "code",
   "execution_count": 26,
   "metadata": {},
   "outputs": [
    {
     "name": "stdout",
     "output_type": "stream",
     "text": [
      "Contoh grafik triple exponential smoothing\n"
     ]
    },
    {
     "data": {
      "image/png": "[encoded data removed]",
      "text/plain": [
       "<Figure size 432x288 with 1 Axes>"
      ]
     },
     "metadata": {
      "needs_background": "light"
     },
     "output_type": "display_data"
    }
   ],
   "source": [
    "data = [41.7275,  24.0418,  32.3281,  37.3287,  46.2132,  29.3463, 36.4829,  42.9777,  48.9015,  31.1802,  37.7179,  40.4202, 51.2069,  31.8872,  40.9783,  43.7725,  55.5586,  33.8509, 42.0764,  45.6423,  59.7668,  35.1919,  44.3197,  47.9137]\n",
    "index= pd.date_range(start='2005', end='2010-Q4', freq='QS-OCT')\n",
    "aust = pd.Series(data, index)\n",
    "\n",
    "az=aust.plot()\n",
    "az.set_xlabel(\"Year\")\n",
    "az.set_ylabel(\"Total\")\n",
    "print(\"Contoh grafik triple exponential smoothing\")"
   ]
  },
  {
   "cell_type": "code",
   "execution_count": null,
   "metadata": {},
   "outputs": [],
   "source": []
  }
 ],
 "metadata": {
  "kernelspec": {
   "display_name": "Python 3",
   "language": "python",
   "name": "python3"
  },
  "language_info": {
   "codemirror_mode": {
    "name": "ipython",
    "version": 3
   },
   "file_extension": ".py",
   "mimetype": "text/x-python",
   "name": "python",
   "nbconvert_exporter": "python",
   "pygments_lexer": "ipython3",
   "version": "3.7.4"
  }
 },
 "nbformat": 4,
 "nbformat_minor": 2
}
